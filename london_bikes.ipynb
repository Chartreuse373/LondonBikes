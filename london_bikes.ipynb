{
 "cells": [
  {
   "cell_type": "code",
   "execution_count": null,
   "id": "d8ef5277",
   "metadata": {},
   "outputs": [
    {
     "name": "stderr",
     "output_type": "stream",
     "text": [
      "\n",
      "[notice] A new release of pip is available: 24.0 -> 25.1.1\n",
      "[notice] To update, run: C:\\Users\\jackn\\AppData\\Local\\Microsoft\\WindowsApps\\PythonSoftwareFoundation.Python.3.11_qbz5n2kfra8p0\\python.exe -m pip install --upgrade pip\n"
     ]
    },
    {
     "name": "stdout",
     "output_type": "stream",
     "text": [
      "Collecting openpyxl\n",
      "  Downloading openpyxl-3.1.5-py2.py3-none-any.whl.metadata (2.5 kB)\n",
      "Collecting et-xmlfile (from openpyxl)\n",
      "  Downloading et_xmlfile-2.0.0-py3-none-any.whl.metadata (2.7 kB)\n",
      "Downloading openpyxl-3.1.5-py2.py3-none-any.whl (250 kB)\n",
      "   ---------------------------------------- 0.0/250.9 kB ? eta -:--:--\n",
      "   - -------------------------------------- 10.2/250.9 kB ? eta -:--:--\n",
      "   ---------------------- ----------------- 143.4/250.9 kB 2.1 MB/s eta 0:00:01\n",
      "   ---------------------------------------- 250.9/250.9 kB 3.1 MB/s eta 0:00:00\n",
      "Downloading et_xmlfile-2.0.0-py3-none-any.whl (18 kB)\n",
      "Installing collected packages: et-xmlfile, openpyxl\n",
      "Successfully installed et-xmlfile-2.0.0 openpyxl-3.1.5\n",
      "Note: you may need to restart the kernel to use updated packages.\n"
     ]
    }
   ],
   "source": [
    "#%pip install pandas\n",
    "#%pip install kaggle\n",
    "#%pip install openpyxl\n",
    "\n",
    "# import pandas library\n",
    "import pandas as pd\n",
    "\n",
    "# import kaggle library for downloading datasets\n",
    "import kaggle\n",
    "\n",
    "#import zipfile library to extract zip from kaggle\n",
    "import zipfile\n",
    "\n",
    "#import openpyxl to write to excel\n",
    "import openpyxl"
   ]
  },
  {
   "cell_type": "code",
   "execution_count": 2,
   "id": "7585f165",
   "metadata": {},
   "outputs": [
    {
     "name": "stdout",
     "output_type": "stream",
     "text": [
      "Dataset URL: https://www.kaggle.com/datasets/hmavrodiev/london-bike-sharing-dataset\n",
      "License(s): other\n",
      "london-bike-sharing-dataset.zip: Skipping, found more recently modified local copy (use --force to force download)\n"
     ]
    }
   ],
   "source": [
    "# download dataset from Kaggle\n",
    "!kaggle datasets download -d hmavrodiev/london-bike-sharing-dataset"
   ]
  },
  {
   "cell_type": "code",
   "execution_count": 3,
   "id": "7f0ccb59",
   "metadata": {},
   "outputs": [],
   "source": [
    "# unzip the downloaded dataset\n",
    "zipfile_name = 'london-bike-sharing-dataset.zip'\n",
    "with zipfile.ZipFile(zipfile_name, 'r') as file:\n",
    "    file.extractall()"
   ]
  },
  {
   "cell_type": "code",
   "execution_count": 16,
   "id": "a6455ed0",
   "metadata": {},
   "outputs": [],
   "source": [
    "# read the dataset into a pandas dataframe\n",
    "bikes = pd.read_csv('london_merged.csv')"
   ]
  },
  {
   "cell_type": "code",
   "execution_count": 5,
   "id": "d8f36abe",
   "metadata": {},
   "outputs": [
    {
     "name": "stdout",
     "output_type": "stream",
     "text": [
      "<class 'pandas.core.frame.DataFrame'>\n",
      "RangeIndex: 17414 entries, 0 to 17413\n",
      "Data columns (total 10 columns):\n",
      " #   Column        Non-Null Count  Dtype  \n",
      "---  ------        --------------  -----  \n",
      " 0   timestamp     17414 non-null  object \n",
      " 1   cnt           17414 non-null  int64  \n",
      " 2   t1            17414 non-null  float64\n",
      " 3   t2            17414 non-null  float64\n",
      " 4   hum           17414 non-null  float64\n",
      " 5   wind_speed    17414 non-null  float64\n",
      " 6   weather_code  17414 non-null  float64\n",
      " 7   is_holiday    17414 non-null  float64\n",
      " 8   is_weekend    17414 non-null  float64\n",
      " 9   season        17414 non-null  float64\n",
      "dtypes: float64(8), int64(1), object(1)\n",
      "memory usage: 1.3+ MB\n"
     ]
    }
   ],
   "source": [
    "# explore the dataset\n",
    "bikes.info()"
   ]
  },
  {
   "cell_type": "code",
   "execution_count": 6,
   "id": "ad82f76d",
   "metadata": {},
   "outputs": [
    {
     "data": {
      "text/plain": [
       "(17414, 10)"
      ]
     },
     "execution_count": 6,
     "metadata": {},
     "output_type": "execute_result"
    }
   ],
   "source": [
    "bikes.shape"
   ]
  },
  {
   "cell_type": "code",
   "execution_count": 21,
   "id": "837b5d63",
   "metadata": {},
   "outputs": [
    {
     "data": {
      "text/html": [
       "<div>\n",
       "<style scoped>\n",
       "    .dataframe tbody tr th:only-of-type {\n",
       "        vertical-align: middle;\n",
       "    }\n",
       "\n",
       "    .dataframe tbody tr th {\n",
       "        vertical-align: top;\n",
       "    }\n",
       "\n",
       "    .dataframe thead th {\n",
       "        text-align: right;\n",
       "    }\n",
       "</style>\n",
       "<table border=\"1\" class=\"dataframe\">\n",
       "  <thead>\n",
       "    <tr style=\"text-align: right;\">\n",
       "      <th></th>\n",
       "      <th>time</th>\n",
       "      <th>count</th>\n",
       "      <th>temp_real_C</th>\n",
       "      <th>temp_feel_C</th>\n",
       "      <th>humidity</th>\n",
       "      <th>wind_speed_kmh</th>\n",
       "      <th>weather</th>\n",
       "      <th>is_holiday</th>\n",
       "      <th>is_weekend</th>\n",
       "      <th>season</th>\n",
       "    </tr>\n",
       "  </thead>\n",
       "  <tbody>\n",
       "    <tr>\n",
       "      <th>0</th>\n",
       "      <td>2015-01-04 00:00:00</td>\n",
       "      <td>182</td>\n",
       "      <td>3.0</td>\n",
       "      <td>2.0</td>\n",
       "      <td>0.930</td>\n",
       "      <td>6.0</td>\n",
       "      <td>3.0</td>\n",
       "      <td>0.0</td>\n",
       "      <td>1.0</td>\n",
       "      <td>3.0</td>\n",
       "    </tr>\n",
       "    <tr>\n",
       "      <th>1</th>\n",
       "      <td>2015-01-04 01:00:00</td>\n",
       "      <td>138</td>\n",
       "      <td>3.0</td>\n",
       "      <td>2.5</td>\n",
       "      <td>0.930</td>\n",
       "      <td>5.0</td>\n",
       "      <td>1.0</td>\n",
       "      <td>0.0</td>\n",
       "      <td>1.0</td>\n",
       "      <td>3.0</td>\n",
       "    </tr>\n",
       "    <tr>\n",
       "      <th>2</th>\n",
       "      <td>2015-01-04 02:00:00</td>\n",
       "      <td>134</td>\n",
       "      <td>2.5</td>\n",
       "      <td>2.5</td>\n",
       "      <td>0.965</td>\n",
       "      <td>0.0</td>\n",
       "      <td>1.0</td>\n",
       "      <td>0.0</td>\n",
       "      <td>1.0</td>\n",
       "      <td>3.0</td>\n",
       "    </tr>\n",
       "    <tr>\n",
       "      <th>3</th>\n",
       "      <td>2015-01-04 03:00:00</td>\n",
       "      <td>72</td>\n",
       "      <td>2.0</td>\n",
       "      <td>2.0</td>\n",
       "      <td>1.000</td>\n",
       "      <td>0.0</td>\n",
       "      <td>1.0</td>\n",
       "      <td>0.0</td>\n",
       "      <td>1.0</td>\n",
       "      <td>3.0</td>\n",
       "    </tr>\n",
       "    <tr>\n",
       "      <th>4</th>\n",
       "      <td>2015-01-04 04:00:00</td>\n",
       "      <td>47</td>\n",
       "      <td>2.0</td>\n",
       "      <td>0.0</td>\n",
       "      <td>0.930</td>\n",
       "      <td>6.5</td>\n",
       "      <td>1.0</td>\n",
       "      <td>0.0</td>\n",
       "      <td>1.0</td>\n",
       "      <td>3.0</td>\n",
       "    </tr>\n",
       "  </tbody>\n",
       "</table>\n",
       "</div>"
      ],
      "text/plain": [
       "                  time  count  temp_real_C  temp_feel_C  humidity  \\\n",
       "0  2015-01-04 00:00:00    182          3.0          2.0     0.930   \n",
       "1  2015-01-04 01:00:00    138          3.0          2.5     0.930   \n",
       "2  2015-01-04 02:00:00    134          2.5          2.5     0.965   \n",
       "3  2015-01-04 03:00:00     72          2.0          2.0     1.000   \n",
       "4  2015-01-04 04:00:00     47          2.0          0.0     0.930   \n",
       "\n",
       "   wind_speed_kmh  weather  is_holiday  is_weekend  season  \n",
       "0             6.0      3.0         0.0         1.0     3.0  \n",
       "1             5.0      1.0         0.0         1.0     3.0  \n",
       "2             0.0      1.0         0.0         1.0     3.0  \n",
       "3             0.0      1.0         0.0         1.0     3.0  \n",
       "4             6.5      1.0         0.0         1.0     3.0  "
      ]
     },
     "execution_count": 21,
     "metadata": {},
     "output_type": "execute_result"
    }
   ],
   "source": [
    "bikes.head()"
   ]
  },
  {
   "cell_type": "code",
   "execution_count": 8,
   "id": "b5e5e0a4",
   "metadata": {},
   "outputs": [
    {
     "data": {
      "text/plain": [
       "weather_code\n",
       "1.0     6150\n",
       "2.0     4034\n",
       "3.0     3551\n",
       "7.0     2141\n",
       "4.0     1464\n",
       "26.0      60\n",
       "10.0      14\n",
       "Name: count, dtype: int64"
      ]
     },
     "execution_count": 8,
     "metadata": {},
     "output_type": "execute_result"
    }
   ],
   "source": [
    "# count unique values in weather_code column\n",
    "bikes.weather_code.value_counts()"
   ]
  },
  {
   "cell_type": "code",
   "execution_count": 9,
   "id": "7a938ff6",
   "metadata": {},
   "outputs": [
    {
     "data": {
      "text/plain": [
       "season\n",
       "0.0    4394\n",
       "1.0    4387\n",
       "3.0    4330\n",
       "2.0    4303\n",
       "Name: count, dtype: int64"
      ]
     },
     "execution_count": 9,
     "metadata": {},
     "output_type": "execute_result"
    }
   ],
   "source": [
    "# count unique values in season column\n",
    "bikes.season.value_counts()"
   ]
  },
  {
   "cell_type": "code",
   "execution_count": 18,
   "id": "ce7bf1e4",
   "metadata": {},
   "outputs": [],
   "source": [
    "# create a dictionary to rename columns\n",
    "new_cols_dict = {\n",
    "    'timestamp' : 'time',\n",
    "    'cnt' : 'count',\n",
    "    't1' : 'temp_real_C',\n",
    "    't2' : 'temp_feel_C',\n",
    "    'hum' : 'humidity',\n",
    "    'wind_speed' : 'wind_speed_kmh',\n",
    "    'weather_code' : 'weather',\n",
    "    'is_holiday' : 'is_holiday',\n",
    "    'is_weekend' : 'is_weekend',\n",
    "    'season' : 'season'\n",
    "    }\n",
    "\n",
    "# rename columns using the dictionary above\n",
    "bikes.rename(columns=new_cols_dict, inplace=True)"
   ]
  },
  {
   "cell_type": "code",
   "execution_count": 20,
   "id": "0f8932d6",
   "metadata": {},
   "outputs": [],
   "source": [
    "# change humidity column to percentage\n",
    "bikes.humidity = bikes.humidity / 100"
   ]
  },
  {
   "cell_type": "code",
   "execution_count": 22,
   "id": "049e528e",
   "metadata": {},
   "outputs": [],
   "source": [
    "# create a dictionary to map season values to names\n",
    "season_dict = {\n",
    "    '0.0' : 'spring',\n",
    "    '1.0' : 'summer',\n",
    "    '2.0' : 'autumn',\n",
    "    '3.0' : 'winter'\n",
    "}\n",
    "\n",
    "# create a dictionary to map weather values to names\n",
    "weather_dict = {\n",
    "    '1.0' : 'Clear',\n",
    "    '2.0' : 'Scattered clouds',\n",
    "    '3.0' : 'Broken clouds',\n",
    "    '4.0' : 'Cloudy',\n",
    "    '7.0' : 'Rain',\n",
    "    '10.0' : 'Rain with thunderstorm',\n",
    "    '26.0' : 'Snowfall'\n",
    "}\n",
    "\n",
    "# change season types to string for mapping\n",
    "bikes.season = bikes.season.astype(str)\n",
    "# map season and weather columns to names\n",
    "bikes.season = bikes.season.map(season_dict)\n",
    "\n",
    "# change weather types to string for mapping\n",
    "bikes.weather = bikes.weather.astype(str)\n",
    "# map weather column to names\n",
    "bikes.weather = bikes.weather.map(weather_dict)"
   ]
  },
  {
   "cell_type": "code",
   "execution_count": 23,
   "id": "e3657fab",
   "metadata": {},
   "outputs": [
    {
     "data": {
      "text/html": [
       "<div>\n",
       "<style scoped>\n",
       "    .dataframe tbody tr th:only-of-type {\n",
       "        vertical-align: middle;\n",
       "    }\n",
       "\n",
       "    .dataframe tbody tr th {\n",
       "        vertical-align: top;\n",
       "    }\n",
       "\n",
       "    .dataframe thead th {\n",
       "        text-align: right;\n",
       "    }\n",
       "</style>\n",
       "<table border=\"1\" class=\"dataframe\">\n",
       "  <thead>\n",
       "    <tr style=\"text-align: right;\">\n",
       "      <th></th>\n",
       "      <th>time</th>\n",
       "      <th>count</th>\n",
       "      <th>temp_real_C</th>\n",
       "      <th>temp_feel_C</th>\n",
       "      <th>humidity</th>\n",
       "      <th>wind_speed_kmh</th>\n",
       "      <th>weather</th>\n",
       "      <th>is_holiday</th>\n",
       "      <th>is_weekend</th>\n",
       "      <th>season</th>\n",
       "    </tr>\n",
       "  </thead>\n",
       "  <tbody>\n",
       "    <tr>\n",
       "      <th>0</th>\n",
       "      <td>2015-01-04 00:00:00</td>\n",
       "      <td>182</td>\n",
       "      <td>3.0</td>\n",
       "      <td>2.0</td>\n",
       "      <td>0.930</td>\n",
       "      <td>6.0</td>\n",
       "      <td>Broken clouds</td>\n",
       "      <td>0.0</td>\n",
       "      <td>1.0</td>\n",
       "      <td>winter</td>\n",
       "    </tr>\n",
       "    <tr>\n",
       "      <th>1</th>\n",
       "      <td>2015-01-04 01:00:00</td>\n",
       "      <td>138</td>\n",
       "      <td>3.0</td>\n",
       "      <td>2.5</td>\n",
       "      <td>0.930</td>\n",
       "      <td>5.0</td>\n",
       "      <td>Clear</td>\n",
       "      <td>0.0</td>\n",
       "      <td>1.0</td>\n",
       "      <td>winter</td>\n",
       "    </tr>\n",
       "    <tr>\n",
       "      <th>2</th>\n",
       "      <td>2015-01-04 02:00:00</td>\n",
       "      <td>134</td>\n",
       "      <td>2.5</td>\n",
       "      <td>2.5</td>\n",
       "      <td>0.965</td>\n",
       "      <td>0.0</td>\n",
       "      <td>Clear</td>\n",
       "      <td>0.0</td>\n",
       "      <td>1.0</td>\n",
       "      <td>winter</td>\n",
       "    </tr>\n",
       "    <tr>\n",
       "      <th>3</th>\n",
       "      <td>2015-01-04 03:00:00</td>\n",
       "      <td>72</td>\n",
       "      <td>2.0</td>\n",
       "      <td>2.0</td>\n",
       "      <td>1.000</td>\n",
       "      <td>0.0</td>\n",
       "      <td>Clear</td>\n",
       "      <td>0.0</td>\n",
       "      <td>1.0</td>\n",
       "      <td>winter</td>\n",
       "    </tr>\n",
       "    <tr>\n",
       "      <th>4</th>\n",
       "      <td>2015-01-04 04:00:00</td>\n",
       "      <td>47</td>\n",
       "      <td>2.0</td>\n",
       "      <td>0.0</td>\n",
       "      <td>0.930</td>\n",
       "      <td>6.5</td>\n",
       "      <td>Clear</td>\n",
       "      <td>0.0</td>\n",
       "      <td>1.0</td>\n",
       "      <td>winter</td>\n",
       "    </tr>\n",
       "  </tbody>\n",
       "</table>\n",
       "</div>"
      ],
      "text/plain": [
       "                  time  count  temp_real_C  temp_feel_C  humidity  \\\n",
       "0  2015-01-04 00:00:00    182          3.0          2.0     0.930   \n",
       "1  2015-01-04 01:00:00    138          3.0          2.5     0.930   \n",
       "2  2015-01-04 02:00:00    134          2.5          2.5     0.965   \n",
       "3  2015-01-04 03:00:00     72          2.0          2.0     1.000   \n",
       "4  2015-01-04 04:00:00     47          2.0          0.0     0.930   \n",
       "\n",
       "   wind_speed_kmh        weather  is_holiday  is_weekend  season  \n",
       "0             6.0  Broken clouds         0.0         1.0  winter  \n",
       "1             5.0          Clear         0.0         1.0  winter  \n",
       "2             0.0          Clear         0.0         1.0  winter  \n",
       "3             0.0          Clear         0.0         1.0  winter  \n",
       "4             6.5          Clear         0.0         1.0  winter  "
      ]
     },
     "execution_count": 23,
     "metadata": {},
     "output_type": "execute_result"
    }
   ],
   "source": [
    "# checking the changes\n",
    "bikes.head()"
   ]
  },
  {
   "cell_type": "code",
   "execution_count": 26,
   "id": "8fd10630",
   "metadata": {},
   "outputs": [],
   "source": [
    "# writing the cleaned dataset to an excel file for use with Tableau\n",
    "bikes.to_excel('london_bikes_cleaned.xlsx', sheet_name='Data')"
   ]
  }
 ],
 "metadata": {
  "kernelspec": {
   "display_name": "Python 3",
   "language": "python",
   "name": "python3"
  },
  "language_info": {
   "codemirror_mode": {
    "name": "ipython",
    "version": 3
   },
   "file_extension": ".py",
   "mimetype": "text/x-python",
   "name": "python",
   "nbconvert_exporter": "python",
   "pygments_lexer": "ipython3",
   "version": "3.11.9"
  }
 },
 "nbformat": 4,
 "nbformat_minor": 5
}
